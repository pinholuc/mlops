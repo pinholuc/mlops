{
  "nbformat": 4,
  "nbformat_minor": 0,
  "metadata": {
    "colab": {
      "provenance": [],
      "authorship_tag": "ABX9TyP6LKixI+0jEzhpLGzM2RjR",
      "include_colab_link": true
    },
    "kernelspec": {
      "name": "python3",
      "display_name": "Python 3"
    },
    "language_info": {
      "name": "python"
    }
  },
  "cells": [
    {
      "cell_type": "markdown",
      "metadata": {
        "id": "view-in-github",
        "colab_type": "text"
      },
      "source": [
        "<a href=\"https://colab.research.google.com/github/pinholuc/mlops/blob/master/ml_handbook/5.%20classification.ipynb\" target=\"_parent\"><img src=\"https://colab.research.google.com/assets/colab-badge.svg\" alt=\"Open In Colab\"/></a>"
      ]
    },
    {
      "cell_type": "code",
      "execution_count": 1,
      "metadata": {
        "id": "uAIoAZX4_oos",
        "outputId": "4707f574-57c4-49fd-bf49-a32a7be55533",
        "colab": {
          "base_uri": "https://localhost:8080/",
          "height": 139
        }
      },
      "outputs": [
        {
          "output_type": "execute_result",
          "data": {
            "text/plain": [
              "\"\\nEstima probabilidades usando uma funcao logistica.\\n\\n1. Eficiencia na execucao: pode usar n_jobs se nao estiver com solucionador\\n'liblinear'\\n\\n2. Pre-processamento de dados:\\n\\nSe solver estiver definido como 'sag' ou 'saga', padronize para que haja\\nconvergencia. Eh capaz de lidar com entradas esparsas.\\n\\n3. Evitar overfitting: o parametro C controla a regularizacao. Eh possivel\\nespecificar penalty com 'l1' ou 'l2'\\n\\n4. Interpretacao dos resultados: o atributo .coef do modelo apos a adequacao\\nmostra os coeficientes da funcao de decisao. uma mudanca de x em uma unidade \\nmodifica o log odds ratio de acordo com o coeficiente. O atributo .intercept_\\neh o inverso do log odds da condicao de base\\n\""
            ],
            "application/vnd.google.colaboratory.intrinsic+json": {
              "type": "string"
            }
          },
          "metadata": {},
          "execution_count": 1
        }
      ],
      "source": [
        "# Regressao Logistica\n",
        "\n",
        "\"\"\"\n",
        "Estima probabilidades usando uma funcao logistica.\n",
        "\n",
        "1. Eficiencia na execucao: pode usar n_jobs se nao estiver com solucionador\n",
        "'liblinear'\n",
        "\n",
        "2. Pre-processamento de dados:\n",
        "\n",
        "Se solver estiver definido como 'sag' ou 'saga', padronize para que haja\n",
        "convergencia. Eh capaz de lidar com entradas esparsas.\n",
        "\n",
        "3. Evitar overfitting: o parametro C controla a regularizacao. Eh possivel\n",
        "especificar penalty com 'l1' ou 'l2'\n",
        "\n",
        "4. Interpretacao dos resultados: o atributo .coef do modelo apos a adequacao\n",
        "mostra os coeficientes da funcao de decisao. uma mudanca de x em uma unidade \n",
        "modifica o log odds ratio de acordo com o coeficiente. O atributo .intercept_\n",
        "eh o inverso do log odds da condicao de base\n",
        "\"\"\"\n",
        "\n"
      ]
    },
    {
      "cell_type": "code",
      "source": [
        "from sklearn.linear_model import LogisticRegression\n",
        "from sklearn.model_selection import train_test_split\n",
        "import pandas as pd \n",
        "import numpy as np\n",
        "import matplotlib.pyplot as plt \n",
        "\n",
        "df = pd.read_excel(\"./titanic3.xls\").drop(columns = [\"name\", \n",
        "                                                      \"ticket\", \n",
        "                                                      \"home.dest\", \n",
        "                                                      \"boat\", \n",
        "                                                      \"body\", \n",
        "                                                      \"cabin\"])\n",
        "\n",
        "# Getting rid of string/object features\n",
        "df = pd.get_dummies(df).drop(columns=\"sex_male\").dropna()\n",
        "\n",
        "# Segregate features (x) and labels (y)\n",
        "X = df.drop(columns=\"survived\")\n",
        "\n",
        "# Labels (y)\n",
        "y = df.survived\n",
        "\n",
        "# Split in train and validation\n",
        "X_train, X_test, y_train, y_test = train_test_split(X,\n",
        "                                                    y,\n",
        "                                                    test_size=0.3,\n",
        "                                                    random_state=42)\n"
      ],
      "metadata": {
        "id": "wYsVqhU0Bjrx"
      },
      "execution_count": 2,
      "outputs": []
    },
    {
      "cell_type": "code",
      "source": [
        "lr = LogisticRegression(random_state=42, max_iter=2000)\n",
        "lr.fit(X_train, y_train)"
      ],
      "metadata": {
        "colab": {
          "base_uri": "https://localhost:8080/"
        },
        "id": "PEg99gy3Bnny",
        "outputId": "66b07532-f57b-462c-e527-aae579479d48"
      },
      "execution_count": 3,
      "outputs": [
        {
          "output_type": "execute_result",
          "data": {
            "text/plain": [
              "LogisticRegression(max_iter=2000, random_state=42)"
            ]
          },
          "metadata": {},
          "execution_count": 3
        }
      ]
    },
    {
      "cell_type": "code",
      "source": [
        "lr.score(X_test, y_test)\n",
        "lr.predict(X.iloc[[0]])\n",
        "lr.predict_proba(X.iloc[[0]])\n",
        "lr.predict_log_proba(X.iloc[[0]])\n",
        "lr.decision_function(X.iloc[[0]])"
      ],
      "metadata": {
        "colab": {
          "base_uri": "https://localhost:8080/"
        },
        "id": "oejxOwLaCgXQ",
        "outputId": "9d9daeaf-f794-4074-daa7-96c636dc42ad"
      },
      "execution_count": 4,
      "outputs": [
        {
          "output_type": "execute_result",
          "data": {
            "text/plain": [
              "array([2.77932032])"
            ]
          },
          "metadata": {},
          "execution_count": 4
        }
      ]
    },
    {
      "cell_type": "code",
      "source": [
        "\"\"\"\n",
        "\n",
        "o logit inverso dos coeficientes nos da a proporcao de casos positivos.\n",
        "Nesse caso, se sex for female, ha mais chances de sobrevi-\n",
        "vencia.\n",
        "\n",
        "\"\"\"\n",
        "\n",
        "def inv_logit(p):\n",
        "  return np.exp(p) / (1 + np.exp(p))\n",
        "\n",
        "cols = X.columns\n",
        "for col, val in sorted(\n",
        "    zip(cols, lr.coef_[0]),\n",
        "    key=lambda x: x[1],\n",
        "    reverse=True\n",
        "):\n",
        "  print(\n",
        "      f\"{col:10}{val:10.3f} {inv_logit(val):10.3f}\"\n",
        "  )"
      ],
      "metadata": {
        "colab": {
          "base_uri": "https://localhost:8080/"
        },
        "id": "Dnr9BwrnC2aK",
        "outputId": "16a47ef8-313f-43f9-af2c-be9c2b2b297d"
      },
      "execution_count": 5,
      "outputs": [
        {
          "output_type": "stream",
          "name": "stdout",
          "text": [
            "sex_female     2.719      0.938\n",
            "embarked_C     0.456      0.612\n",
            "embarked_S     0.042      0.510\n",
            "parch          0.040      0.510\n",
            "fare           0.001      0.500\n",
            "age           -0.043      0.489\n",
            "sibsp         -0.384      0.405\n",
            "embarked_Q    -0.580      0.359\n",
            "pclass        -1.040      0.261\n"
          ]
        }
      ]
    },
    {
      "cell_type": "code",
      "source": [
        "# Naive Bayes\n",
        "\n",
        "\"\"\"\n",
        "Eh um classificador probabilistico que pressupoe uma independencia\n",
        "entre os atributos dos dados. Eh popular para aplicacoes de classificacao de textos\n",
        "como por exemplo identificacao de spams.\n",
        "\n",
        "Uma vantagem desse modelo eh que, por supor uma independencia entre os atributos,\n",
        "ele eh capaz de fazer o treinamento de um modelo com numero pequeno de amostras\n",
        "\n",
        "Ha 3 classes para Naive Bayes no scikit-learn: GaussianNB, MultinomialNB\n",
        "e BernoulliNB.\n",
        "\n",
        "1. Eficienca na execucao: treinamento O(Nd)\n",
        "\"\"\"\n",
        "\n",
        "from sklearn.naive_bayes import GaussianNB\n",
        "\n",
        "nb = GaussianNB()\n",
        "nb.fit(X_train, y_train)\n",
        "nb.score(X_test, y_test)\n"
      ],
      "metadata": {
        "colab": {
          "base_uri": "https://localhost:8080/"
        },
        "id": "BdbIVC0sD_uc",
        "outputId": "16a7d33a-a884-4791-adc1-d219654ee574"
      },
      "execution_count": 7,
      "outputs": [
        {
          "output_type": "execute_result",
          "data": {
            "text/plain": [
              "0.7579617834394905"
            ]
          },
          "metadata": {},
          "execution_count": 7
        }
      ]
    },
    {
      "cell_type": "code",
      "source": [
        "nb.predict(X.iloc[[0]])"
      ],
      "metadata": {
        "id": "wLmERfdCE3Io",
        "colab": {
          "base_uri": "https://localhost:8080/"
        },
        "outputId": "1175a1ac-03f3-42cc-926b-bd331dab6f04"
      },
      "execution_count": 8,
      "outputs": [
        {
          "output_type": "execute_result",
          "data": {
            "text/plain": [
              "array([1])"
            ]
          },
          "metadata": {},
          "execution_count": 8
        }
      ]
    },
    {
      "cell_type": "code",
      "source": [
        "# Support Vector Machines (SVM)\n",
        "\n",
        "\n",
        "\"\"\"\n",
        "Algoritmo que tenta fazer adequacacao de uma linha (ou plano ou hiperplano)\n",
        "entre as diferentes classes de modo a maximizar a distancia da linha \n",
        "ate os pontos das classes.\n",
        "\n",
        "Dessa maneira, ela tenta encontrar uma separacao robusta entre as classes. Os\n",
        "vetores suport (support vectors) sao os pontos da fronteira do hiperplano\n",
        "divisor.\n",
        "\n",
        "A implementacao do scikit-learn eh O(n4) para o treinamento portanto pode ser\n",
        "dificil escalar para tamanhos maiores. \n",
        "\n",
        "O algoritmo nao eh invariante a escala. Padronizar os dados eh extremamente\n",
        "recomendavel.\n",
        "\"\"\"\n",
        "\n",
        "from sklearn.svm import SVC\n",
        "\n",
        "svc = SVC(random_state=42, probability=True)\n",
        "svc.fit(X_train, y_train)\n",
        "svc.score(X_test, y_test)\n",
        "\n"
      ],
      "metadata": {
        "colab": {
          "base_uri": "https://localhost:8080/"
        },
        "id": "pKTvJr9TMRhi",
        "outputId": "c34902b9-0fc8-4ff8-987a-7a573007f502"
      },
      "execution_count": 11,
      "outputs": [
        {
          "output_type": "execute_result",
          "data": {
            "text/plain": [
              "0.6592356687898089"
            ]
          },
          "metadata": {},
          "execution_count": 11
        }
      ]
    },
    {
      "cell_type": "code",
      "source": [
        "svc.predict(X.iloc[[0]])"
      ],
      "metadata": {
        "colab": {
          "base_uri": "https://localhost:8080/"
        },
        "id": "ysANzP93NmM4",
        "outputId": "4540e462-0b5b-4764-c2d9-d097e0b4fe25"
      },
      "execution_count": 12,
      "outputs": [
        {
          "output_type": "execute_result",
          "data": {
            "text/plain": [
              "array([1])"
            ]
          },
          "metadata": {},
          "execution_count": 12
        }
      ]
    },
    {
      "cell_type": "code",
      "source": [
        "# K Nearest Neighbours\n",
        "\n",
        "\"\"\"\n",
        "Faz classificacao com base na distancia ate algumas amostras (k) de treinamento.\n",
        "A familia de algoritmos eh chamada de aprendizado baseado em instancias pois nao\n",
        "ha parametros para aprender. O modelo pressupoe que a distancia eh suficiente\n",
        "para fazer uma inferencia: afora isso, nenhuma pressuposicao eh feita sobre os\n",
        "dados subjacentes ou suas distribuicoes.\n",
        "\n",
        "A parte complicada eh selecionar o valor apropriado de k. Alem disso, a maldicao\n",
        "da dimensionalidade pode atrapalhar as metricas de distancia, pois havera\n",
        "pouca diferenca entre os vizinhos mais proximos e mais distantes nos casos de \n",
        "mais dimensoes.\n",
        "\n",
        "\"\"\"\n",
        "\n",
        "from sklearn.neighbors import KNeighborsClassifier\n",
        "\n",
        "knc = KNeighborsClassifier()\n",
        "knc.fit(X_train, y_train)\n",
        "knc.score(X_test, y_test)"
      ],
      "metadata": {
        "colab": {
          "base_uri": "https://localhost:8080/"
        },
        "id": "vOHVRlkbN14S",
        "outputId": "e6316795-0de7-4bef-a804-16417ae36db8"
      },
      "execution_count": 15,
      "outputs": [
        {
          "output_type": "execute_result",
          "data": {
            "text/plain": [
              "0.6528662420382165"
            ]
          },
          "metadata": {},
          "execution_count": 15
        }
      ]
    },
    {
      "cell_type": "code",
      "source": [
        "knc.predict(X.iloc[[0]])"
      ],
      "metadata": {
        "colab": {
          "base_uri": "https://localhost:8080/"
        },
        "id": "lzrBe3TQQUwD",
        "outputId": "2e9562db-5127-4bb4-d87f-90f6213b3929"
      },
      "execution_count": 16,
      "outputs": [
        {
          "output_type": "execute_result",
          "data": {
            "text/plain": [
              "array([1])"
            ]
          },
          "metadata": {},
          "execution_count": 16
        }
      ]
    },
    {
      "cell_type": "code",
      "source": [
        "# Decision Trees\n",
        "\n",
        "\"\"\"\n",
        "Uma arvore de decisao eh como ir a um medico que faz uma serie de perguntas\n",
        "a fim de terminar a causa dos sintomas. Podemos usar um processo para criar uma\n",
        "arvore de decisao e ter uma serie de perguntas para prever uma classe alvo.\n",
        "\n",
        "As vantagens desse modelo incluem suporte para dados nao numericos, pouca pre-\n",
        "paracao dos dados, suporte para lidar com relacionamentos nao lineares,\n",
        "a importancia dos atributos eh relevada e facil de explicar.\n",
        "\n",
        "o algoritmo padrao usado para a criacao se chama CART (Classification and \n",
        "Regression Tree). ELe usa a impureza de Gini ou medida de indices para tomada \n",
        "de decisao. Isso eh feito percorrendo os atributos em um laco e encontrando\n",
        "o valor que forneca a menor probabilidade de erro de classificacao.\n",
        "\"\"\"\n",
        "\n",
        "from sklearn.tree import DecisionTreeClassifier\n",
        "\n",
        "dt = DecisionTreeClassifier(random_state=42, max_depth=3)\n",
        "dt.fit(X_train, y_train)\n",
        "dt.score(X_test, y_test)"
      ],
      "metadata": {
        "colab": {
          "base_uri": "https://localhost:8080/"
        },
        "id": "IMTP3SkoQhoo",
        "outputId": "83166e3f-3f3c-42ec-9554-bd246ab679fe"
      },
      "execution_count": 18,
      "outputs": [
        {
          "output_type": "execute_result",
          "data": {
            "text/plain": [
              "0.7611464968152867"
            ]
          },
          "metadata": {},
          "execution_count": 18
        }
      ]
    },
    {
      "cell_type": "code",
      "source": [
        "dt.predict(X.iloc[[0]])"
      ],
      "metadata": {
        "colab": {
          "base_uri": "https://localhost:8080/"
        },
        "id": "t6hJqwbRRiCy",
        "outputId": "4dc4b244-015f-4278-857b-500acc165619"
      },
      "execution_count": 19,
      "outputs": [
        {
          "output_type": "execute_result",
          "data": {
            "text/plain": [
              "array([1])"
            ]
          },
          "metadata": {},
          "execution_count": 19
        }
      ]
    },
    {
      "cell_type": "code",
      "source": [
        "# Random Forests\n",
        "\n"
      ],
      "metadata": {
        "id": "uI5XWrDIRnEm"
      },
      "execution_count": null,
      "outputs": []
    }
  ]
}