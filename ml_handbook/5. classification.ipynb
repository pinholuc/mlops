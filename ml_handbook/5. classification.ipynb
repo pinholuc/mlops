{
  "nbformat": 4,
  "nbformat_minor": 0,
  "metadata": {
    "colab": {
      "provenance": [],
      "authorship_tag": "ABX9TyOMPgaQMeehpELFpxv0ki0q",
      "include_colab_link": true
    },
    "kernelspec": {
      "name": "python3",
      "display_name": "Python 3"
    },
    "language_info": {
      "name": "python"
    }
  },
  "cells": [
    {
      "cell_type": "markdown",
      "metadata": {
        "id": "view-in-github",
        "colab_type": "text"
      },
      "source": [
        "<a href=\"https://colab.research.google.com/github/pinholuc/mlops/blob/master/ml_handbook/5.%20classification.ipynb\" target=\"_parent\"><img src=\"https://colab.research.google.com/assets/colab-badge.svg\" alt=\"Open In Colab\"/></a>"
      ]
    },
    {
      "cell_type": "code",
      "execution_count": null,
      "metadata": {
        "id": "uAIoAZX4_oos"
      },
      "outputs": [],
      "source": [
        "# Regressao Logistica\n",
        "\n",
        "\"\"\"\n",
        "Estima probabilidades usando uma funcao logistica.\n",
        "\n",
        "1. Eficiencia na execucao: pode usar n_jobs se nao estiver com solucionador\n",
        "'liblinear'\n",
        "\n",
        "2. Pre-processamento de dados:\n",
        "\n",
        "Se solver estiver definido como 'sag' ou 'saga', padronize para que haja\n",
        "convergencia. Eh capaz de lidar com entradas esparsas.\n",
        "\n",
        "3. Evitar overfitting: o parametro C controla a regularizacao. Eh possivel\n",
        "especificar penalty com 'l1' ou 'l2'\n",
        "\n",
        "4. Interpretacao dos resultados: o atributo .coef do modelo apos a adequacao\n",
        "mostra os coeficientes da funcao de decisao. uma mudanca de x em uma unidade \n",
        "modifica o log odds ratio de acordo com o coeficiente. O atributo .intercept_\n",
        "eh o inverso do log odds da condicao de base\n",
        "\"\"\"\n",
        "\n"
      ]
    },
    {
      "cell_type": "code",
      "source": [
        "from sklearn.linear_model import LogisticRegression\n",
        "from sklearn.model_selection import train_test_split\n",
        "import pandas as pd \n",
        "import numpy as np\n",
        "import matplotlib.pyplot as plt \n",
        "\n",
        "df = pd.read_excel(\"./titanic3.xls\").drop(columns = [\"name\", \n",
        "                                                      \"ticket\", \n",
        "                                                      \"home.dest\", \n",
        "                                                      \"boat\", \n",
        "                                                      \"body\", \n",
        "                                                      \"cabin\"])\n",
        "\n",
        "# Getting rid of string/object features\n",
        "df = pd.get_dummies(df).drop(columns=\"sex_male\").dropna()\n",
        "\n",
        "# Segregate features (x) and labels (y)\n",
        "X = df.drop(columns=\"survived\")\n",
        "\n",
        "# Labels (y)\n",
        "y = df.survived\n",
        "\n",
        "# Split in train and validation\n",
        "X_train, X_test, y_train, y_test = train_test_split(X,\n",
        "                                                    y,\n",
        "                                                    test_size=0.3,\n",
        "                                                    random_state=42)\n"
      ],
      "metadata": {
        "id": "wYsVqhU0Bjrx"
      },
      "execution_count": 6,
      "outputs": []
    },
    {
      "cell_type": "code",
      "source": [
        "lr = LogisticRegression(random_state=42, max_iter=2000)\n",
        "lr.fit(X_train, y_train)"
      ],
      "metadata": {
        "colab": {
          "base_uri": "https://localhost:8080/"
        },
        "id": "PEg99gy3Bnny",
        "outputId": "a4ddfab3-c267-4097-a3dc-6f2718f57664"
      },
      "execution_count": 9,
      "outputs": [
        {
          "output_type": "execute_result",
          "data": {
            "text/plain": [
              "0.7420382165605095"
            ]
          },
          "metadata": {},
          "execution_count": 9
        }
      ]
    },
    {
      "cell_type": "code",
      "source": [
        "lr.score(X_test, y_test)\n",
        "lr.predict(X.iloc[[0]])\n",
        "lr.predict_proba(X.iloc[[0]])\n",
        "lr.predict_log_proba(X.iloc[[0]])\n",
        "lr.decision_function(X.iloc[[0]])"
      ],
      "metadata": {
        "colab": {
          "base_uri": "https://localhost:8080/"
        },
        "id": "oejxOwLaCgXQ",
        "outputId": "b6f1b139-f3e6-4caf-dbea-58e0ba0eef67"
      },
      "execution_count": 13,
      "outputs": [
        {
          "output_type": "execute_result",
          "data": {
            "text/plain": [
              "array([2.77932032])"
            ]
          },
          "metadata": {},
          "execution_count": 13
        }
      ]
    },
    {
      "cell_type": "code",
      "source": [
        "\"\"\"\n",
        "\n",
        "o logit inverso dos coeficientes nos da a proporcao de casos positivos.\n",
        "Nesse caso, se sex for female, ha mais chances de sobrevi-\n",
        "vencia.\n",
        "\n",
        "\"\"\"\n",
        "\n",
        "def inv_logit(p):\n",
        "  return np.exp(p) / (1 + np.exp(p))\n",
        "\n",
        "cols = X.columns\n",
        "for col, val in sorted(\n",
        "    zip(cols, lr.coef_[0]),\n",
        "    key=lambda x: x[1],\n",
        "    reverse=True\n",
        "):\n",
        "  print(\n",
        "      f\"{col:10}{val:10.3f} {inv_logit(val):10.3f}\"\n",
        "  )"
      ],
      "metadata": {
        "colab": {
          "base_uri": "https://localhost:8080/"
        },
        "id": "Dnr9BwrnC2aK",
        "outputId": "1729fa1c-40df-4bf4-bfca-501fc0b1b467"
      },
      "execution_count": 16,
      "outputs": [
        {
          "output_type": "stream",
          "name": "stdout",
          "text": [
            "sex_female     2.719      0.938\n",
            "embarked_C     0.456      0.612\n",
            "embarked_S     0.042      0.510\n",
            "parch          0.040      0.510\n",
            "fare           0.001      0.500\n",
            "age           -0.043      0.489\n",
            "sibsp         -0.384      0.405\n",
            "embarked_Q    -0.580      0.359\n",
            "pclass        -1.040      0.261\n"
          ]
        }
      ]
    },
    {
      "cell_type": "code",
      "source": [
        "# Naive Bayes\n",
        "\n",
        "\n"
      ],
      "metadata": {
        "colab": {
          "base_uri": "https://localhost:8080/",
          "height": 339
        },
        "id": "BdbIVC0sD_uc",
        "outputId": "1c7c1791-e92d-438e-f464-5daefcb08687"
      },
      "execution_count": 17,
      "outputs": [
        {
          "output_type": "error",
          "ename": "ModuleNotFoundError",
          "evalue": "ignored",
          "traceback": [
            "\u001b[0;31m---------------------------------------------------------------------------\u001b[0m",
            "\u001b[0;31mModuleNotFoundError\u001b[0m                       Traceback (most recent call last)",
            "\u001b[0;32m<ipython-input-17-77aa73e0a1d9>\u001b[0m in \u001b[0;36m<module>\u001b[0;34m\u001b[0m\n\u001b[1;32m      2\u001b[0m \u001b[0mO\u001b[0m \u001b[0mYellowbrick\u001b[0m \u001b[0mtambem\u001b[0m \u001b[0mpermite\u001b[0m \u001b[0mvisualizar\u001b[0m \u001b[0mos\u001b[0m \u001b[0mcoeficientes\u001b[0m\u001b[0;34m.\u001b[0m\u001b[0;34m\u001b[0m\u001b[0;34m\u001b[0m\u001b[0m\n\u001b[1;32m      3\u001b[0m \"\"\"\n\u001b[0;32m----> 4\u001b[0;31m \u001b[0;32mfrom\u001b[0m \u001b[0myellowbrick\u001b[0m\u001b[0;34m.\u001b[0m\u001b[0mfeatures\u001b[0m\u001b[0;34m.\u001b[0m\u001b[0mimportances\u001b[0m \u001b[0;32mimport\u001b[0m \u001b[0mFeatureImportances\u001b[0m\u001b[0;34m\u001b[0m\u001b[0;34m\u001b[0m\u001b[0m\n\u001b[0m",
            "\u001b[0;31mModuleNotFoundError\u001b[0m: No module named 'yellowbrick.features.importances'",
            "",
            "\u001b[0;31m---------------------------------------------------------------------------\u001b[0;32m\nNOTE: If your import is failing due to a missing package, you can\nmanually install dependencies using either !pip or !apt.\n\nTo view examples of installing some common dependencies, click the\n\"Open Examples\" button below.\n\u001b[0;31m---------------------------------------------------------------------------\u001b[0m\n"
          ],
          "errorDetails": {
            "actions": [
              {
                "action": "open_url",
                "actionText": "Open Examples",
                "url": "/notebooks/snippets/importing_libraries.ipynb"
              }
            ]
          }
        }
      ]
    },
    {
      "cell_type": "code",
      "source": [],
      "metadata": {
        "id": "wLmERfdCE3Io"
      },
      "execution_count": null,
      "outputs": []
    }
  ]
}