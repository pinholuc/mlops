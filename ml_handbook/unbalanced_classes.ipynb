{
  "nbformat": 4,
  "nbformat_minor": 0,
  "metadata": {
    "colab": {
      "provenance": [],
      "authorship_tag": "ABX9TyNr/Z6aVRr6ZNysbG4pxf0E",
      "include_colab_link": true
    },
    "kernelspec": {
      "name": "python3",
      "display_name": "Python 3"
    },
    "language_info": {
      "name": "python"
    }
  },
  "cells": [
    {
      "cell_type": "markdown",
      "metadata": {
        "id": "view-in-github",
        "colab_type": "text"
      },
      "source": [
        "<a href=\"https://colab.research.google.com/github/pinholuc/mlops/blob/master/ml_handbook/unbalanced_classes.ipynb\" target=\"_parent\"><img src=\"https://colab.research.google.com/assets/colab-badge.svg\" alt=\"Open In Colab\"/></a>"
      ]
    },
    {
      "cell_type": "code",
      "execution_count": 3,
      "metadata": {
        "id": "4nT8HsjDztZU"
      },
      "outputs": [],
      "source": [
        "import matplotlib.pyplot as plt\n",
        "import pandas as pd\n",
        "import numpy as numpy\n",
        "import matplotlib.pyplot as plt\n",
        "\n",
        "from sklearn import ensemble, preprocessing, tree\n",
        "from sklearn.metrics import auc, confusion_matrix, roc_auc_score, roc_curve\n",
        "from sklearn.model_selection import train_test_split, StratifiedKFold\n",
        "\n",
        "from yellowbrick.classifier import ConfusionMatrix, ROCAUC\n",
        "from yellowbrick.model_selection import LearningCurve\n",
        "\n",
        "# Read titanic survival data\n",
        "df = pd.read_excel(\"./titanic3.xls\")\n",
        "\n",
        "# Droping features that are not useful to our model\n",
        "df = df.drop(columns = [\"name\", \n",
        "                        \"ticket\", \n",
        "                        \"home.dest\", \n",
        "                        \"boat\", \n",
        "                        \"body\", \n",
        "                        \"cabin\"])\n",
        "\n",
        "# Getting rid of string/object features\n",
        "df = pd.get_dummies(df).drop(columns=\"sex_male\")\n",
        "\n",
        "# Segregate features (x) and labels (y)\n",
        "X = df.drop(columns=\"survived\")\n",
        "\n",
        "# Labels (y)\n",
        "y = df.survived\n",
        "\n",
        "# Split in train and validation\n",
        "X_train, X_test, y_train, y_test = train_test_split(X,\n",
        "                                                    y,\n",
        "                                                    test_size=0.3,\n",
        "                                                    random_state=42)"
      ]
    },
    {
      "cell_type": "code",
      "source": [
        "\"\"\"\n",
        "Se voce estiver classificando dados e as classes nao estiverem relativamente\n",
        "balanceadas quanto ao tamanho, a distorcao em direcao as classes mais\n",
        "populares poderao transparecer em seu modelo. Por exemplo, se voce tiver 1 \n",
        "caso positivo e 99 casos negativos, podera obter 99% de exatidao simplesmente\n",
        "classificando tudo como negativo.\n",
        "\n",
        "1. Usar metrica diferente: uma dica eh usar uma medica que nao seja accuracy\n",
        "para calibrar os modelos (o AUC eh uma boa opcao). Precisao (precision) e recall\n",
        "tambem sao otimas opcoes quando os tamanhos dos alvos (targets) forem diferentes.\n",
        "No entanto, ha outras opcoes a serem consideradas tambem.\n",
        "\n",
        "2. Bagging e boosting sao opcoes encontradas em modelos de arvore como random forest\n",
        "e o XGBoost (Gradient Boosting)\n",
        "\n",
        "3. Modelos de penalizacao: \n",
        "\n",
        "4. Upsampling da classe minoritaria ou downsampling da classe majoritaria\n",
        "\"\"\"\n",
        "\n"
      ],
      "metadata": {
        "id": "24hxWi98z3Of"
      },
      "execution_count": null,
      "outputs": []
    }
  ]
}