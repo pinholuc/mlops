{
  "nbformat": 4,
  "nbformat_minor": 0,
  "metadata": {
    "colab": {
      "provenance": [],
      "authorship_tag": "ABX9TyNTCG3Omh9tj5b5yiHZSYyz",
      "include_colab_link": true
    },
    "kernelspec": {
      "name": "python3",
      "display_name": "Python 3"
    },
    "language_info": {
      "name": "python"
    }
  },
  "cells": [
    {
      "cell_type": "markdown",
      "metadata": {
        "id": "view-in-github",
        "colab_type": "text"
      },
      "source": [
        "<a href=\"https://colab.research.google.com/github/pinholuc/mlops/blob/master/ml_handbook/feature_selection.ipynb\" target=\"_parent\"><img src=\"https://colab.research.google.com/assets/colab-badge.svg\" alt=\"Open In Colab\"/></a>"
      ]
    },
    {
      "cell_type": "code",
      "execution_count": 1,
      "metadata": {
        "id": "vRm6W_1jgt2y"
      },
      "outputs": [],
      "source": [
        "import pandas as pd\n",
        "\n",
        "df = pd.read_excel('./titanic3.xls')\n",
        "# Droping features that are not useful to our model\n",
        "df = df.drop(columns = [\"name\", \n",
        "                        \"ticket\", \n",
        "                        \"home.dest\", \n",
        "                        \"boat\", \n",
        "                        \"body\", \n",
        "                        \"cabin\"])\n",
        "# Getting rid of string/object features\n",
        "df = pd.get_dummies(df).drop(columns=\"sex_male\")\n",
        "\n",
        "# Segregate features (x) and labels (y)\n",
        "X = df.drop(columns=\"survived\")\n",
        "\n",
        "# Labels (y)\n",
        "y = df.survived"
      ]
    },
    {
      "cell_type": "code",
      "source": [],
      "metadata": {
        "id": "pL6PmxlVg4nV"
      },
      "execution_count": null,
      "outputs": []
    }
  ]
}